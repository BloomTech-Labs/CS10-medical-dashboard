{
 "cells": [
  {
   "cell_type": "code",
   "execution_count": 1,
   "metadata": {},
   "outputs": [],
   "source": [
    "import pandas as pd"
   ]
  },
  {
   "cell_type": "code",
   "execution_count": 2,
   "metadata": {},
   "outputs": [],
   "source": [
    "# load all the dataset\n",
    "df_20161101 =  pd.read_csv('Rx_BenefitPlan_20161101.csv', usecols=['PharmacyNumber','PharmacyTaxId', 'PharmacyNPI', 'PharmacyName',\n",
    "    'PharmacyStreetAddress1', 'PharmacyStreetAddress2', 'PharmacyCity',\n",
    "    'PharmacyState', 'PharmacyZip', 'MailOrderPharmacy'])\n",
    "\n",
    "df_20161108 =  pd.read_csv('Rx_BenefitPlan_20161108.csv', sep = '|', usecols=['PharmacyNumber','PharmacyTaxId', 'PharmacyNPI', 'PharmacyName',\n",
    "    'PharmacyStreetAddress1', 'PharmacyStreetAddress2', 'PharmacyCity',\n",
    "    'PharmacyState', 'PharmacyZip', 'MailOrderPharmacy'])\n",
    "\n",
    "df_20161116 =  pd.read_csv('Rx_BenefitPlan_20161116.csv', sep = '|', usecols=['PharmacyNumber','PharmacyTaxId', 'PharmacyNPI', 'PharmacyName',\n",
    "    'PharmacyStreetAddress1', 'PharmacyStreetAddress2', 'PharmacyCity',\n",
    "    'PharmacyState', 'PharmacyZip', 'MailOrderPharmacy'])\n",
    "\n",
    "df_20161122 =  pd.read_csv('Rx_BenefitPlan_20161122.csv', sep = '|', usecols=['PharmacyNumber','PharmacyTaxId', 'PharmacyNPI', 'PharmacyName',\n",
    "    'PharmacyStreetAddress1', 'PharmacyStreetAddress2', 'PharmacyCity',\n",
    "    'PharmacyState', 'PharmacyZip', 'MailOrderPharmacy'])\n",
    "\n",
    "df_20161129 =  pd.read_csv('Rx_BenefitPlan_20161129.csv', sep = '|', usecols=['PharmacyNumber','PharmacyTaxId', 'PharmacyNPI', 'PharmacyName',\n",
    "    'PharmacyStreetAddress1', 'PharmacyStreetAddress2', 'PharmacyCity',\n",
    "    'PharmacyState', 'PharmacyZip', 'MailOrderPharmacy'])\n",
    "\n",
    "df_20161206 =  pd.read_csv('Rx_BenefitPlan_20161206.csv', sep = '|', usecols=['PharmacyNumber','PharmacyTaxId', 'PharmacyNPI', 'PharmacyName',\n",
    "    'PharmacyStreetAddress1', 'PharmacyStreetAddress2', 'PharmacyCity',\n",
    "    'PharmacyState', 'PharmacyZip', 'MailOrderPharmacy'], low_memory=False)\n",
    "\n",
    "df_20170110 =  pd.read_csv('Rx_BenefitPlan_20170110.csv', sep = '|', usecols=['PharmacyNumber','PharmacyTaxId', 'PharmacyNPI', 'PharmacyName',\n",
    "    'PharmacyStreetAddress1', 'PharmacyStreetAddress2', 'PharmacyCity',\n",
    "    'PharmacyState', 'PharmacyZip', 'MailOrderPharmacy'])\n",
    "\n",
    "df_20170116 =  pd.read_csv('Rx_BenefitPlan_20170116.csv', sep = '|', usecols=['PharmacyNumber','PharmacyTaxId', 'PharmacyNPI', 'PharmacyName',\n",
    "    'PharmacyStreetAddress1', 'PharmacyStreetAddress2', 'PharmacyCity',\n",
    "    'PharmacyState', 'PharmacyZip', 'MailOrderPharmacy'])\n",
    "\n",
    "df_20170117 =  pd.read_csv('Rx_BenefitPlan_20170117.csv', sep = '|', usecols=['PharmacyNumber','PharmacyTaxId', 'PharmacyNPI', 'PharmacyName',\n",
    "    'PharmacyStreetAddress1', 'PharmacyStreetAddress2', 'PharmacyCity',\n",
    "    'PharmacyState', 'PharmacyZip', 'MailOrderPharmacy'])\n",
    "\n",
    "df_20170124 =  pd.read_csv('Rx_BenefitPlan_20170124.csv', sep = '|', usecols=['PharmacyNumber','PharmacyTaxId', 'PharmacyNPI', 'PharmacyName',\n",
    "    'PharmacyStreetAddress1', 'PharmacyStreetAddress2', 'PharmacyCity',\n",
    "    'PharmacyState', 'PharmacyZip', 'MailOrderPharmacy'])\n",
    "\n",
    "df_20170131 =  pd.read_csv('Rx_BenefitPlan_20170131.csv', sep = '|', usecols=['PharmacyNumber','PharmacyTaxId', 'PharmacyNPI', 'PharmacyName',\n",
    "    'PharmacyStreetAddress1', 'PharmacyStreetAddress2', 'PharmacyCity',\n",
    "    'PharmacyState', 'PharmacyZip', 'MailOrderPharmacy'])\n",
    "\n",
    "df_20170207 =  pd.read_csv('Rx_BenefitPlan_20170207.csv', sep = '|', usecols=['PharmacyNumber','PharmacyTaxId', 'PharmacyNPI', 'PharmacyName',\n",
    "    'PharmacyStreetAddress1', 'PharmacyStreetAddress2', 'PharmacyCity',\n",
    "    'PharmacyState', 'PharmacyZip', 'MailOrderPharmacy'])\n",
    "\n",
    "df_20170214 =  pd.read_csv('Rx_BenefitPlan_20170214.csv', sep = '|', usecols=['PharmacyNumber','PharmacyTaxId', 'PharmacyNPI', 'PharmacyName',\n",
    "    'PharmacyStreetAddress1', 'PharmacyStreetAddress2', 'PharmacyCity',\n",
    "    'PharmacyState', 'PharmacyZip', 'MailOrderPharmacy'])\n",
    "\n",
    "df_20170221 =  pd.read_csv('Rx_BenefitPlan_20170221.csv', sep = '|', usecols=['PharmacyNumber','PharmacyTaxId', 'PharmacyNPI', 'PharmacyName',\n",
    "    'PharmacyStreetAddress1', 'PharmacyStreetAddress2', 'PharmacyCity',\n",
    "    'PharmacyState', 'PharmacyZip', 'MailOrderPharmacy'])\n",
    "\n",
    "df_20170301 =  pd.read_csv('Rx_BenefitPlan_20170301.csv', sep = '|', usecols=['PharmacyNumber','PharmacyTaxId', 'PharmacyNPI', 'PharmacyName',\n",
    "    'PharmacyStreetAddress1', 'PharmacyStreetAddress2', 'PharmacyCity',\n",
    "    'PharmacyState', 'PharmacyZip', 'MailOrderPharmacy'], low_memory=False)"
   ]
  },
  {
   "cell_type": "code",
   "execution_count": 3,
   "metadata": {},
   "outputs": [],
   "source": [
    "# concate all the files together\n",
    "df_20161101_to_20170301 = pd.concat([df_20161101, df_20161108, df_20161116, df_20161122, df_20161129,\n",
    "                                     df_20161206, df_20170110, df_20170116, df_20170117, df_20170124, \n",
    "                                     df_20170131, df_20170207, df_20170214, df_20170221, df_20170301])"
   ]
  },
  {
   "cell_type": "code",
   "execution_count": 4,
   "metadata": {},
   "outputs": [
    {
     "data": {
      "text/html": [
       "<div>\n",
       "<style scoped>\n",
       "    .dataframe tbody tr th:only-of-type {\n",
       "        vertical-align: middle;\n",
       "    }\n",
       "\n",
       "    .dataframe tbody tr th {\n",
       "        vertical-align: top;\n",
       "    }\n",
       "\n",
       "    .dataframe thead th {\n",
       "        text-align: right;\n",
       "    }\n",
       "</style>\n",
       "<table border=\"1\" class=\"dataframe\">\n",
       "  <thead>\n",
       "    <tr style=\"text-align: right;\">\n",
       "      <th></th>\n",
       "      <th>PharmacyNumber</th>\n",
       "      <th>PharmacyTaxId</th>\n",
       "      <th>PharmacyNPI</th>\n",
       "      <th>PharmacyName</th>\n",
       "      <th>PharmacyStreetAddress1</th>\n",
       "      <th>PharmacyStreetAddress2</th>\n",
       "      <th>PharmacyCity</th>\n",
       "      <th>PharmacyState</th>\n",
       "      <th>PharmacyZip</th>\n",
       "      <th>MailOrderPharmacy</th>\n",
       "    </tr>\n",
       "  </thead>\n",
       "  <tbody>\n",
       "    <tr>\n",
       "      <th>0</th>\n",
       "      <td>NaN</td>\n",
       "      <td>2.31614e+08</td>\n",
       "      <td>3.00486e+06</td>\n",
       "      <td>RITE AID PHARMACY 03310                       ...</td>\n",
       "      <td>59 ROCKINGHAM ST                              ...</td>\n",
       "      <td>NaN</td>\n",
       "      <td>DERRY                                         ...</td>\n",
       "      <td>NH</td>\n",
       "      <td>03038-2119</td>\n",
       "      <td>N</td>\n",
       "    </tr>\n",
       "    <tr>\n",
       "      <th>1</th>\n",
       "      <td>NaN</td>\n",
       "      <td>2.02229e+07</td>\n",
       "      <td>3.00526e+06</td>\n",
       "      <td>MANCHESTER VAMC PHARMACY                      ...</td>\n",
       "      <td>718 SMYTH RD                                  ...</td>\n",
       "      <td>NaN</td>\n",
       "      <td>MANCHESTER                                    ...</td>\n",
       "      <td>NH</td>\n",
       "      <td>03104-0000</td>\n",
       "      <td>N</td>\n",
       "    </tr>\n",
       "    <tr>\n",
       "      <th>2</th>\n",
       "      <td>NaN</td>\n",
       "      <td>2.02229e+07</td>\n",
       "      <td>3.00526e+06</td>\n",
       "      <td>MANCHESTER VAMC PHARMACY                      ...</td>\n",
       "      <td>718 SMYTH RD                                  ...</td>\n",
       "      <td>NaN</td>\n",
       "      <td>MANCHESTER                                    ...</td>\n",
       "      <td>NH</td>\n",
       "      <td>03104-0000</td>\n",
       "      <td>N</td>\n",
       "    </tr>\n",
       "    <tr>\n",
       "      <th>3</th>\n",
       "      <td>NaN</td>\n",
       "      <td>2.02229e+07</td>\n",
       "      <td>3.00526e+06</td>\n",
       "      <td>MANCHESTER VAMC PHARMACY                      ...</td>\n",
       "      <td>718 SMYTH RD                                  ...</td>\n",
       "      <td>NaN</td>\n",
       "      <td>MANCHESTER                                    ...</td>\n",
       "      <td>NH</td>\n",
       "      <td>03104-0000</td>\n",
       "      <td>N</td>\n",
       "    </tr>\n",
       "    <tr>\n",
       "      <th>4</th>\n",
       "      <td>NaN</td>\n",
       "      <td>2.02229e+07</td>\n",
       "      <td>3.00526e+06</td>\n",
       "      <td>MANCHESTER VAMC PHARMACY                      ...</td>\n",
       "      <td>718 SMYTH RD                                  ...</td>\n",
       "      <td>NaN</td>\n",
       "      <td>MANCHESTER                                    ...</td>\n",
       "      <td>NH</td>\n",
       "      <td>03104-0000</td>\n",
       "      <td>N</td>\n",
       "    </tr>\n",
       "  </tbody>\n",
       "</table>\n",
       "</div>"
      ],
      "text/plain": [
       "  PharmacyNumber PharmacyTaxId  PharmacyNPI  \\\n",
       "0            NaN   2.31614e+08  3.00486e+06   \n",
       "1            NaN   2.02229e+07  3.00526e+06   \n",
       "2            NaN   2.02229e+07  3.00526e+06   \n",
       "3            NaN   2.02229e+07  3.00526e+06   \n",
       "4            NaN   2.02229e+07  3.00526e+06   \n",
       "\n",
       "                                        PharmacyName  \\\n",
       "0  RITE AID PHARMACY 03310                       ...   \n",
       "1  MANCHESTER VAMC PHARMACY                      ...   \n",
       "2  MANCHESTER VAMC PHARMACY                      ...   \n",
       "3  MANCHESTER VAMC PHARMACY                      ...   \n",
       "4  MANCHESTER VAMC PHARMACY                      ...   \n",
       "\n",
       "                              PharmacyStreetAddress1 PharmacyStreetAddress2  \\\n",
       "0  59 ROCKINGHAM ST                              ...                    NaN   \n",
       "1  718 SMYTH RD                                  ...                    NaN   \n",
       "2  718 SMYTH RD                                  ...                    NaN   \n",
       "3  718 SMYTH RD                                  ...                    NaN   \n",
       "4  718 SMYTH RD                                  ...                    NaN   \n",
       "\n",
       "                                        PharmacyCity PharmacyState  \\\n",
       "0  DERRY                                         ...            NH   \n",
       "1  MANCHESTER                                    ...            NH   \n",
       "2  MANCHESTER                                    ...            NH   \n",
       "3  MANCHESTER                                    ...            NH   \n",
       "4  MANCHESTER                                    ...            NH   \n",
       "\n",
       "  PharmacyZip MailOrderPharmacy  \n",
       "0  03038-2119                 N  \n",
       "1  03104-0000                 N  \n",
       "2  03104-0000                 N  \n",
       "3  03104-0000                 N  \n",
       "4  03104-0000                 N  "
      ]
     },
     "execution_count": 4,
     "metadata": {},
     "output_type": "execute_result"
    }
   ],
   "source": [
    "# take a look the dataset\n",
    "df_20161101_to_20170301.head()"
   ]
  },
  {
   "cell_type": "code",
   "execution_count": 5,
   "metadata": {},
   "outputs": [],
   "source": [
    "# remove special characters at the end of address\n",
    "df_20161101_to_20170301['PharmacyStreetAddress1'] = df_20161101_to_20170301['PharmacyStreetAddress1'].str.replace('[^ a-zA-Z0-9_]', '')"
   ]
  },
  {
   "cell_type": "code",
   "execution_count": 6,
   "metadata": {},
   "outputs": [
    {
     "data": {
      "text/plain": [
       "0    59 ROCKINGHAM ST                              ...\n",
       "1    718 SMYTH RD                                  ...\n",
       "2    718 SMYTH RD                                  ...\n",
       "3    718 SMYTH RD                                  ...\n",
       "4    718 SMYTH RD                                  ...\n",
       "5    718 SMYTH RD                                  ...\n",
       "6    288 SANDOWN RD                                ...\n",
       "7    288 SANDOWN RD                                ...\n",
       "8    20 CRYSTAL AVENUE                             ...\n",
       "9    8350 S RIVER PKWY                             ...\n",
       "Name: PharmacyStreetAddress1, dtype: object"
      ]
     },
     "execution_count": 6,
     "metadata": {},
     "output_type": "execute_result"
    }
   ],
   "source": [
    "df_20161101_to_20170301['PharmacyStreetAddress1'].head(10)"
   ]
  },
  {
   "cell_type": "code",
   "execution_count": 7,
   "metadata": {},
   "outputs": [],
   "source": [
    "# remove the whitespace \n",
    "df_20161101_to_20170301['PharmacyStreetAddress1'] = df_20161101_to_20170301['PharmacyStreetAddress1'].str.rstrip()"
   ]
  },
  {
   "cell_type": "code",
   "execution_count": 8,
   "metadata": {},
   "outputs": [
    {
     "data": {
      "text/plain": [
       "0     59 ROCKINGHAM ST\n",
       "1         718 SMYTH RD\n",
       "2         718 SMYTH RD\n",
       "3         718 SMYTH RD\n",
       "4         718 SMYTH RD\n",
       "5         718 SMYTH RD\n",
       "6       288 SANDOWN RD\n",
       "7       288 SANDOWN RD\n",
       "8    20 CRYSTAL AVENUE\n",
       "9    8350 S RIVER PKWY\n",
       "Name: PharmacyStreetAddress1, dtype: object"
      ]
     },
     "execution_count": 8,
     "metadata": {},
     "output_type": "execute_result"
    }
   ],
   "source": [
    "# check\n",
    "df_20161101_to_20170301['PharmacyStreetAddress1'].head(10)"
   ]
  },
  {
   "cell_type": "code",
   "execution_count": 9,
   "metadata": {},
   "outputs": [],
   "source": [
    "# replace the full name to the abbrevations\n",
    "\n",
    "df_20161101_to_20170301['PharmacyStreetAddress1'].replace('AVENUE', 'AVE', regex = True, inplace = True)\n",
    "df_20161101_to_20170301['PharmacyStreetAddress1'].replace('BOULEVARD', 'BLVD', regex = True, inplace = True)\n",
    "df_20161101_to_20170301['PharmacyStreetAddress1'].replace('ROAD', 'RD', regex = True, inplace = True)\n",
    "df_20161101_to_20170301['PharmacyStreetAddress1'].replace('TRACE', 'TRAC', regex = True, inplace = True)\n",
    "df_20161101_to_20170301['PharmacyStreetAddress1'].replace('HIGHWAY', 'HWY', regex = True, inplace = True)\n",
    "df_20161101_to_20170301['PharmacyStreetAddress1'].replace('STREET', 'ST', regex = True, inplace = True)\n",
    "df_20161101_to_20170301['PharmacyStreetAddress1'].replace('PARKWAY', 'PKWY', regex = True, inplace = True)\n",
    "df_20161101_to_20170301['PharmacyStreetAddress1'].replace('TRAIL', 'TRL', regex = True, inplace = True)\n",
    "df_20161101_to_20170301['PharmacyStreetAddress1'].replace('PLAZA', 'PLZ', regex = True, inplace = True)"
   ]
  },
  {
   "cell_type": "code",
   "execution_count": 10,
   "metadata": {},
   "outputs": [
    {
     "data": {
      "text/plain": [
       "0     59 ROCKINGHAM ST\n",
       "1         718 SMYTH RD\n",
       "2         718 SMYTH RD\n",
       "3         718 SMYTH RD\n",
       "4         718 SMYTH RD\n",
       "5         718 SMYTH RD\n",
       "6       288 SANDOWN RD\n",
       "7       288 SANDOWN RD\n",
       "8       20 CRYSTAL AVE\n",
       "9    8350 S RIVER PKWY\n",
       "Name: PharmacyStreetAddress1, dtype: object"
      ]
     },
     "execution_count": 10,
     "metadata": {},
     "output_type": "execute_result"
    }
   ],
   "source": [
    "# check\n",
    "df_20161101_to_20170301['PharmacyStreetAddress1'].head(10)"
   ]
  },
  {
   "cell_type": "code",
   "execution_count": 11,
   "metadata": {},
   "outputs": [],
   "source": [
    "# remove the zip-code after '-' only contains 5 digits\n",
    "df_20161101_to_20170301['PharmacyZip'] = df_20161101_to_20170301['PharmacyZip'].str.split('-').str[0]"
   ]
  },
  {
   "cell_type": "code",
   "execution_count": 12,
   "metadata": {},
   "outputs": [
    {
     "data": {
      "text/plain": [
       "0    03038\n",
       "1    03104\n",
       "2    03104\n",
       "3    03104\n",
       "4    03104\n",
       "Name: PharmacyZip, dtype: object"
      ]
     },
     "execution_count": 12,
     "metadata": {},
     "output_type": "execute_result"
    }
   ],
   "source": [
    "# check head\n",
    "df_20161101_to_20170301['PharmacyZip'].head()"
   ]
  },
  {
   "cell_type": "code",
   "execution_count": 13,
   "metadata": {},
   "outputs": [
    {
     "data": {
      "text/plain": [
       "4224960    334112511      \n",
       "4224961    334613021      \n",
       "4224962    334613021      \n",
       "4224963    334613021      \n",
       "4224964    334613021      \n",
       "Name: PharmacyZip, dtype: object"
      ]
     },
     "execution_count": 13,
     "metadata": {},
     "output_type": "execute_result"
    }
   ],
   "source": [
    "# check tail\n",
    "df_20161101_to_20170301['PharmacyZip'].tail()"
   ]
  },
  {
   "cell_type": "code",
   "execution_count": 14,
   "metadata": {},
   "outputs": [],
   "source": [
    "# remove the zip-code only take first 5 digits\n",
    "df_20161101_to_20170301['PharmacyZip'] = df_20161101_to_20170301['PharmacyZip'].str[:5]"
   ]
  },
  {
   "cell_type": "code",
   "execution_count": 15,
   "metadata": {},
   "outputs": [
    {
     "data": {
      "text/plain": [
       "4224960    33411\n",
       "4224961    33461\n",
       "4224962    33461\n",
       "4224963    33461\n",
       "4224964    33461\n",
       "Name: PharmacyZip, dtype: object"
      ]
     },
     "execution_count": 15,
     "metadata": {},
     "output_type": "execute_result"
    }
   ],
   "source": [
    "# check\n",
    "df_20161101_to_20170301['PharmacyZip'].tail()"
   ]
  },
  {
   "cell_type": "code",
   "execution_count": 16,
   "metadata": {},
   "outputs": [],
   "source": [
    "# add leading 0 to zipcode only contains 4 digits\n",
    "df_20161101_to_20170301['PharmacyZip'] = map(lambda x: x.zfill(5), df_20161101_to_20170301['PharmacyZip'])"
   ]
  },
  {
   "cell_type": "code",
   "execution_count": 17,
   "metadata": {},
   "outputs": [
    {
     "data": {
      "text/plain": [
       "array(['N', 'Y', '3', 3, '01', nan, '06', '08', '05', 'U'], dtype=object)"
      ]
     },
     "execution_count": 17,
     "metadata": {},
     "output_type": "execute_result"
    }
   ],
   "source": [
    "# check how many different types of mail order we do have\n",
    "df_20161101_to_20170301['MailOrderPharmacy'].unique()"
   ]
  },
  {
   "cell_type": "code",
   "execution_count": 18,
   "metadata": {},
   "outputs": [],
   "source": [
    "# keep the rows only has N and nan values fo MailOrderPharmacy\n",
    "df_20161101_to_20170301 = df_20161101_to_20170301[(df_20161101_to_20170301['MailOrderPharmacy'] != 3) &\n",
    "                                                  (df_20161101_to_20170301['MailOrderPharmacy'] != 'Y') &\n",
    "                                                  (df_20161101_to_20170301['MailOrderPharmacy'] != '3') &\n",
    "                                                  (df_20161101_to_20170301['MailOrderPharmacy'] != '01') &\n",
    "                                                  (df_20161101_to_20170301['MailOrderPharmacy'] != '06') &\n",
    "                                                  (df_20161101_to_20170301['MailOrderPharmacy'] != '08') &\n",
    "                                                  (df_20161101_to_20170301['MailOrderPharmacy'] != '05') &\n",
    "                                                  (df_20161101_to_20170301['MailOrderPharmacy'] != 'U')]"
   ]
  },
  {
   "cell_type": "code",
   "execution_count": 19,
   "metadata": {},
   "outputs": [
    {
     "data": {
      "text/plain": [
       "array(['N', nan], dtype=object)"
      ]
     },
     "execution_count": 19,
     "metadata": {},
     "output_type": "execute_result"
    }
   ],
   "source": [
    "# check\n",
    "df_20161101_to_20170301['MailOrderPharmacy'].unique()"
   ]
  },
  {
   "cell_type": "code",
   "execution_count": 20,
   "metadata": {},
   "outputs": [],
   "source": [
    "# then drop the duplicates from those five columns \n",
    "# 'PharmacyNumber', 'PharmacyNPI', 'PharmacyTaxID','PharmacyName', 'PharmacyStreetAddress1'\n",
    "\n",
    "df_20161101_to_20170301 = df_20161101_to_20170301.drop_duplicates(subset=['PharmacyNumber', 'PharmacyNPI', 'PharmacyTaxID','PharmacyName', 'PharmacyStreetAddress1'])"
   ]
  },
  {
   "cell_type": "code",
   "execution_count": 21,
   "metadata": {},
   "outputs": [
    {
     "data": {
      "text/html": [
       "<div>\n",
       "<style scoped>\n",
       "    .dataframe tbody tr th:only-of-type {\n",
       "        vertical-align: middle;\n",
       "    }\n",
       "\n",
       "    .dataframe tbody tr th {\n",
       "        vertical-align: top;\n",
       "    }\n",
       "\n",
       "    .dataframe thead th {\n",
       "        text-align: right;\n",
       "    }\n",
       "</style>\n",
       "<table border=\"1\" class=\"dataframe\">\n",
       "  <thead>\n",
       "    <tr style=\"text-align: right;\">\n",
       "      <th></th>\n",
       "      <th>PharmacyNumber</th>\n",
       "      <th>PharmacyTaxId</th>\n",
       "      <th>PharmacyNPI</th>\n",
       "      <th>PharmacyName</th>\n",
       "      <th>PharmacyStreetAddress1</th>\n",
       "      <th>PharmacyStreetAddress2</th>\n",
       "      <th>PharmacyCity</th>\n",
       "      <th>PharmacyState</th>\n",
       "      <th>PharmacyZip</th>\n",
       "      <th>MailOrderPharmacy</th>\n",
       "    </tr>\n",
       "  </thead>\n",
       "  <tbody>\n",
       "    <tr>\n",
       "      <th>0</th>\n",
       "      <td>NaN</td>\n",
       "      <td>2.31614e+08</td>\n",
       "      <td>3.00486e+06</td>\n",
       "      <td>RITE AID PHARMACY 03310                       ...</td>\n",
       "      <td>59 ROCKINGHAM ST</td>\n",
       "      <td>NaN</td>\n",
       "      <td>DERRY                                         ...</td>\n",
       "      <td>NH</td>\n",
       "      <td>&lt;map object at 0x0000017737003358&gt;</td>\n",
       "      <td>N</td>\n",
       "    </tr>\n",
       "    <tr>\n",
       "      <th>1</th>\n",
       "      <td>NaN</td>\n",
       "      <td>2.02229e+07</td>\n",
       "      <td>3.00526e+06</td>\n",
       "      <td>MANCHESTER VAMC PHARMACY                      ...</td>\n",
       "      <td>718 SMYTH RD</td>\n",
       "      <td>NaN</td>\n",
       "      <td>MANCHESTER                                    ...</td>\n",
       "      <td>NH</td>\n",
       "      <td>&lt;map object at 0x0000017737003358&gt;</td>\n",
       "      <td>N</td>\n",
       "    </tr>\n",
       "    <tr>\n",
       "      <th>6</th>\n",
       "      <td>NaN</td>\n",
       "      <td>3.61924e+08</td>\n",
       "      <td>3.06087e+06</td>\n",
       "      <td>WALGREENS                                     ...</td>\n",
       "      <td>288 SANDOWN RD</td>\n",
       "      <td>NaN</td>\n",
       "      <td>HAMPSTEAD                                     ...</td>\n",
       "      <td>NH</td>\n",
       "      <td>&lt;map object at 0x0000017737003358&gt;</td>\n",
       "      <td>N</td>\n",
       "    </tr>\n",
       "    <tr>\n",
       "      <th>8</th>\n",
       "      <td>NaN</td>\n",
       "      <td>4.29609e+07</td>\n",
       "      <td>3.00666e+06</td>\n",
       "      <td>RITE AID PHARMACY 10264                       ...</td>\n",
       "      <td>20 CRYSTAL AVE</td>\n",
       "      <td>NaN</td>\n",
       "      <td>DERRY                                         ...</td>\n",
       "      <td>NH</td>\n",
       "      <td>&lt;map object at 0x0000017737003358&gt;</td>\n",
       "      <td>N</td>\n",
       "    </tr>\n",
       "    <tr>\n",
       "      <th>10</th>\n",
       "      <td>NaN</td>\n",
       "      <td>3.61924e+08</td>\n",
       "      <td>3.06088e+06</td>\n",
       "      <td>WALGREENS                                     ...</td>\n",
       "      <td>17 CRYSTAL AVE</td>\n",
       "      <td>NaN</td>\n",
       "      <td>DERRY                                         ...</td>\n",
       "      <td>NH</td>\n",
       "      <td>&lt;map object at 0x0000017737003358&gt;</td>\n",
       "      <td>N</td>\n",
       "    </tr>\n",
       "  </tbody>\n",
       "</table>\n",
       "</div>"
      ],
      "text/plain": [
       "   PharmacyNumber PharmacyTaxId  PharmacyNPI  \\\n",
       "0             NaN   2.31614e+08  3.00486e+06   \n",
       "1             NaN   2.02229e+07  3.00526e+06   \n",
       "6             NaN   3.61924e+08  3.06087e+06   \n",
       "8             NaN   4.29609e+07  3.00666e+06   \n",
       "10            NaN   3.61924e+08  3.06088e+06   \n",
       "\n",
       "                                         PharmacyName PharmacyStreetAddress1  \\\n",
       "0   RITE AID PHARMACY 03310                       ...       59 ROCKINGHAM ST   \n",
       "1   MANCHESTER VAMC PHARMACY                      ...           718 SMYTH RD   \n",
       "6   WALGREENS                                     ...         288 SANDOWN RD   \n",
       "8   RITE AID PHARMACY 10264                       ...         20 CRYSTAL AVE   \n",
       "10  WALGREENS                                     ...         17 CRYSTAL AVE   \n",
       "\n",
       "   PharmacyStreetAddress2                                       PharmacyCity  \\\n",
       "0                     NaN  DERRY                                         ...   \n",
       "1                     NaN  MANCHESTER                                    ...   \n",
       "6                     NaN  HAMPSTEAD                                     ...   \n",
       "8                     NaN  DERRY                                         ...   \n",
       "10                    NaN  DERRY                                         ...   \n",
       "\n",
       "   PharmacyState                         PharmacyZip MailOrderPharmacy  \n",
       "0             NH  <map object at 0x0000017737003358>                 N  \n",
       "1             NH  <map object at 0x0000017737003358>                 N  \n",
       "6             NH  <map object at 0x0000017737003358>                 N  \n",
       "8             NH  <map object at 0x0000017737003358>                 N  \n",
       "10            NH  <map object at 0x0000017737003358>                 N  "
      ]
     },
     "execution_count": 21,
     "metadata": {},
     "output_type": "execute_result"
    }
   ],
   "source": [
    "df_20161101_to_20170301.head()"
   ]
  },
  {
   "cell_type": "code",
   "execution_count": 22,
   "metadata": {},
   "outputs": [],
   "source": [
    "# reset the index counter after drop NaN\n",
    "df_clean_20161101_to_20170301 = df_20161101_to_20170301.reset_index(drop=True)"
   ]
  },
  {
   "cell_type": "code",
   "execution_count": 23,
   "metadata": {},
   "outputs": [
    {
     "data": {
      "text/html": [
       "<div>\n",
       "<style scoped>\n",
       "    .dataframe tbody tr th:only-of-type {\n",
       "        vertical-align: middle;\n",
       "    }\n",
       "\n",
       "    .dataframe tbody tr th {\n",
       "        vertical-align: top;\n",
       "    }\n",
       "\n",
       "    .dataframe thead th {\n",
       "        text-align: right;\n",
       "    }\n",
       "</style>\n",
       "<table border=\"1\" class=\"dataframe\">\n",
       "  <thead>\n",
       "    <tr style=\"text-align: right;\">\n",
       "      <th></th>\n",
       "      <th>PharmacyNumber</th>\n",
       "      <th>PharmacyTaxId</th>\n",
       "      <th>PharmacyNPI</th>\n",
       "      <th>PharmacyName</th>\n",
       "      <th>PharmacyStreetAddress1</th>\n",
       "      <th>PharmacyStreetAddress2</th>\n",
       "      <th>PharmacyCity</th>\n",
       "      <th>PharmacyState</th>\n",
       "      <th>PharmacyZip</th>\n",
       "      <th>MailOrderPharmacy</th>\n",
       "    </tr>\n",
       "  </thead>\n",
       "  <tbody>\n",
       "    <tr>\n",
       "      <th>0</th>\n",
       "      <td>NaN</td>\n",
       "      <td>2.31614e+08</td>\n",
       "      <td>3.00486e+06</td>\n",
       "      <td>RITE AID PHARMACY 03310                       ...</td>\n",
       "      <td>59 ROCKINGHAM ST</td>\n",
       "      <td>NaN</td>\n",
       "      <td>DERRY                                         ...</td>\n",
       "      <td>NH</td>\n",
       "      <td>&lt;map object at 0x0000017737003358&gt;</td>\n",
       "      <td>N</td>\n",
       "    </tr>\n",
       "    <tr>\n",
       "      <th>1</th>\n",
       "      <td>NaN</td>\n",
       "      <td>2.02229e+07</td>\n",
       "      <td>3.00526e+06</td>\n",
       "      <td>MANCHESTER VAMC PHARMACY                      ...</td>\n",
       "      <td>718 SMYTH RD</td>\n",
       "      <td>NaN</td>\n",
       "      <td>MANCHESTER                                    ...</td>\n",
       "      <td>NH</td>\n",
       "      <td>&lt;map object at 0x0000017737003358&gt;</td>\n",
       "      <td>N</td>\n",
       "    </tr>\n",
       "    <tr>\n",
       "      <th>2</th>\n",
       "      <td>NaN</td>\n",
       "      <td>3.61924e+08</td>\n",
       "      <td>3.06087e+06</td>\n",
       "      <td>WALGREENS                                     ...</td>\n",
       "      <td>288 SANDOWN RD</td>\n",
       "      <td>NaN</td>\n",
       "      <td>HAMPSTEAD                                     ...</td>\n",
       "      <td>NH</td>\n",
       "      <td>&lt;map object at 0x0000017737003358&gt;</td>\n",
       "      <td>N</td>\n",
       "    </tr>\n",
       "    <tr>\n",
       "      <th>3</th>\n",
       "      <td>NaN</td>\n",
       "      <td>4.29609e+07</td>\n",
       "      <td>3.00666e+06</td>\n",
       "      <td>RITE AID PHARMACY 10264                       ...</td>\n",
       "      <td>20 CRYSTAL AVE</td>\n",
       "      <td>NaN</td>\n",
       "      <td>DERRY                                         ...</td>\n",
       "      <td>NH</td>\n",
       "      <td>&lt;map object at 0x0000017737003358&gt;</td>\n",
       "      <td>N</td>\n",
       "    </tr>\n",
       "    <tr>\n",
       "      <th>4</th>\n",
       "      <td>NaN</td>\n",
       "      <td>3.61924e+08</td>\n",
       "      <td>3.06088e+06</td>\n",
       "      <td>WALGREENS                                     ...</td>\n",
       "      <td>17 CRYSTAL AVE</td>\n",
       "      <td>NaN</td>\n",
       "      <td>DERRY                                         ...</td>\n",
       "      <td>NH</td>\n",
       "      <td>&lt;map object at 0x0000017737003358&gt;</td>\n",
       "      <td>N</td>\n",
       "    </tr>\n",
       "  </tbody>\n",
       "</table>\n",
       "</div>"
      ],
      "text/plain": [
       "  PharmacyNumber PharmacyTaxId  PharmacyNPI  \\\n",
       "0            NaN   2.31614e+08  3.00486e+06   \n",
       "1            NaN   2.02229e+07  3.00526e+06   \n",
       "2            NaN   3.61924e+08  3.06087e+06   \n",
       "3            NaN   4.29609e+07  3.00666e+06   \n",
       "4            NaN   3.61924e+08  3.06088e+06   \n",
       "\n",
       "                                        PharmacyName PharmacyStreetAddress1  \\\n",
       "0  RITE AID PHARMACY 03310                       ...       59 ROCKINGHAM ST   \n",
       "1  MANCHESTER VAMC PHARMACY                      ...           718 SMYTH RD   \n",
       "2  WALGREENS                                     ...         288 SANDOWN RD   \n",
       "3  RITE AID PHARMACY 10264                       ...         20 CRYSTAL AVE   \n",
       "4  WALGREENS                                     ...         17 CRYSTAL AVE   \n",
       "\n",
       "  PharmacyStreetAddress2                                       PharmacyCity  \\\n",
       "0                    NaN  DERRY                                         ...   \n",
       "1                    NaN  MANCHESTER                                    ...   \n",
       "2                    NaN  HAMPSTEAD                                     ...   \n",
       "3                    NaN  DERRY                                         ...   \n",
       "4                    NaN  DERRY                                         ...   \n",
       "\n",
       "  PharmacyState                         PharmacyZip MailOrderPharmacy  \n",
       "0            NH  <map object at 0x0000017737003358>                 N  \n",
       "1            NH  <map object at 0x0000017737003358>                 N  \n",
       "2            NH  <map object at 0x0000017737003358>                 N  \n",
       "3            NH  <map object at 0x0000017737003358>                 N  \n",
       "4            NH  <map object at 0x0000017737003358>                 N  "
      ]
     },
     "execution_count": 23,
     "metadata": {},
     "output_type": "execute_result"
    }
   ],
   "source": [
    "df_clean_20161101_to_20170301.head()"
   ]
  },
  {
   "cell_type": "code",
   "execution_count": 24,
   "metadata": {},
   "outputs": [
    {
     "name": "stdout",
     "output_type": "stream",
     "text": [
      "<class 'pandas.core.frame.DataFrame'>\n",
      "RangeIndex: 38394 entries, 0 to 38393\n",
      "Data columns (total 10 columns):\n",
      "PharmacyNumber            36534 non-null object\n",
      "PharmacyTaxId             35064 non-null object\n",
      "PharmacyNPI               37547 non-null object\n",
      "PharmacyName              37100 non-null object\n",
      "PharmacyStreetAddress1    35058 non-null object\n",
      "PharmacyStreetAddress2    8601 non-null object\n",
      "PharmacyCity              35058 non-null object\n",
      "PharmacyState             35064 non-null object\n",
      "PharmacyZip               38394 non-null object\n",
      "MailOrderPharmacy         38327 non-null object\n",
      "dtypes: object(10)\n",
      "memory usage: 2.9+ MB\n"
     ]
    }
   ],
   "source": [
    "df_clean_20161101_to_20170301.info()"
   ]
  },
  {
   "cell_type": "code",
   "execution_count": 25,
   "metadata": {},
   "outputs": [],
   "source": [
    "# create a new column for a new index called 'PharmacyDashID'\n",
    "df_clean_20161101_to_20170301.reset_index(inplace=True)\n",
    "df_clean_20161101_to_20170301.rename(columns={'index': 'PharmacyDashID'}, inplace=True)"
   ]
  },
  {
   "cell_type": "code",
   "execution_count": 26,
   "metadata": {},
   "outputs": [
    {
     "data": {
      "text/html": [
       "<div>\n",
       "<style scoped>\n",
       "    .dataframe tbody tr th:only-of-type {\n",
       "        vertical-align: middle;\n",
       "    }\n",
       "\n",
       "    .dataframe tbody tr th {\n",
       "        vertical-align: top;\n",
       "    }\n",
       "\n",
       "    .dataframe thead th {\n",
       "        text-align: right;\n",
       "    }\n",
       "</style>\n",
       "<table border=\"1\" class=\"dataframe\">\n",
       "  <thead>\n",
       "    <tr style=\"text-align: right;\">\n",
       "      <th></th>\n",
       "      <th>PharmacyDashID</th>\n",
       "      <th>PharmacyNumber</th>\n",
       "      <th>PharmacyTaxId</th>\n",
       "      <th>PharmacyNPI</th>\n",
       "      <th>PharmacyName</th>\n",
       "      <th>PharmacyStreetAddress1</th>\n",
       "      <th>PharmacyStreetAddress2</th>\n",
       "      <th>PharmacyCity</th>\n",
       "      <th>PharmacyState</th>\n",
       "      <th>PharmacyZip</th>\n",
       "      <th>MailOrderPharmacy</th>\n",
       "    </tr>\n",
       "  </thead>\n",
       "  <tbody>\n",
       "    <tr>\n",
       "      <th>0</th>\n",
       "      <td>0</td>\n",
       "      <td>NaN</td>\n",
       "      <td>2.31614e+08</td>\n",
       "      <td>3.00486e+06</td>\n",
       "      <td>RITE AID PHARMACY 03310                       ...</td>\n",
       "      <td>59 ROCKINGHAM ST</td>\n",
       "      <td>NaN</td>\n",
       "      <td>DERRY                                         ...</td>\n",
       "      <td>NH</td>\n",
       "      <td>&lt;map object at 0x0000017737003358&gt;</td>\n",
       "      <td>N</td>\n",
       "    </tr>\n",
       "    <tr>\n",
       "      <th>1</th>\n",
       "      <td>1</td>\n",
       "      <td>NaN</td>\n",
       "      <td>2.02229e+07</td>\n",
       "      <td>3.00526e+06</td>\n",
       "      <td>MANCHESTER VAMC PHARMACY                      ...</td>\n",
       "      <td>718 SMYTH RD</td>\n",
       "      <td>NaN</td>\n",
       "      <td>MANCHESTER                                    ...</td>\n",
       "      <td>NH</td>\n",
       "      <td>&lt;map object at 0x0000017737003358&gt;</td>\n",
       "      <td>N</td>\n",
       "    </tr>\n",
       "    <tr>\n",
       "      <th>2</th>\n",
       "      <td>2</td>\n",
       "      <td>NaN</td>\n",
       "      <td>3.61924e+08</td>\n",
       "      <td>3.06087e+06</td>\n",
       "      <td>WALGREENS                                     ...</td>\n",
       "      <td>288 SANDOWN RD</td>\n",
       "      <td>NaN</td>\n",
       "      <td>HAMPSTEAD                                     ...</td>\n",
       "      <td>NH</td>\n",
       "      <td>&lt;map object at 0x0000017737003358&gt;</td>\n",
       "      <td>N</td>\n",
       "    </tr>\n",
       "    <tr>\n",
       "      <th>3</th>\n",
       "      <td>3</td>\n",
       "      <td>NaN</td>\n",
       "      <td>4.29609e+07</td>\n",
       "      <td>3.00666e+06</td>\n",
       "      <td>RITE AID PHARMACY 10264                       ...</td>\n",
       "      <td>20 CRYSTAL AVE</td>\n",
       "      <td>NaN</td>\n",
       "      <td>DERRY                                         ...</td>\n",
       "      <td>NH</td>\n",
       "      <td>&lt;map object at 0x0000017737003358&gt;</td>\n",
       "      <td>N</td>\n",
       "    </tr>\n",
       "    <tr>\n",
       "      <th>4</th>\n",
       "      <td>4</td>\n",
       "      <td>NaN</td>\n",
       "      <td>3.61924e+08</td>\n",
       "      <td>3.06088e+06</td>\n",
       "      <td>WALGREENS                                     ...</td>\n",
       "      <td>17 CRYSTAL AVE</td>\n",
       "      <td>NaN</td>\n",
       "      <td>DERRY                                         ...</td>\n",
       "      <td>NH</td>\n",
       "      <td>&lt;map object at 0x0000017737003358&gt;</td>\n",
       "      <td>N</td>\n",
       "    </tr>\n",
       "  </tbody>\n",
       "</table>\n",
       "</div>"
      ],
      "text/plain": [
       "   PharmacyDashID PharmacyNumber PharmacyTaxId  PharmacyNPI  \\\n",
       "0               0            NaN   2.31614e+08  3.00486e+06   \n",
       "1               1            NaN   2.02229e+07  3.00526e+06   \n",
       "2               2            NaN   3.61924e+08  3.06087e+06   \n",
       "3               3            NaN   4.29609e+07  3.00666e+06   \n",
       "4               4            NaN   3.61924e+08  3.06088e+06   \n",
       "\n",
       "                                        PharmacyName PharmacyStreetAddress1  \\\n",
       "0  RITE AID PHARMACY 03310                       ...       59 ROCKINGHAM ST   \n",
       "1  MANCHESTER VAMC PHARMACY                      ...           718 SMYTH RD   \n",
       "2  WALGREENS                                     ...         288 SANDOWN RD   \n",
       "3  RITE AID PHARMACY 10264                       ...         20 CRYSTAL AVE   \n",
       "4  WALGREENS                                     ...         17 CRYSTAL AVE   \n",
       "\n",
       "  PharmacyStreetAddress2                                       PharmacyCity  \\\n",
       "0                    NaN  DERRY                                         ...   \n",
       "1                    NaN  MANCHESTER                                    ...   \n",
       "2                    NaN  HAMPSTEAD                                     ...   \n",
       "3                    NaN  DERRY                                         ...   \n",
       "4                    NaN  DERRY                                         ...   \n",
       "\n",
       "  PharmacyState                         PharmacyZip MailOrderPharmacy  \n",
       "0            NH  <map object at 0x0000017737003358>                 N  \n",
       "1            NH  <map object at 0x0000017737003358>                 N  \n",
       "2            NH  <map object at 0x0000017737003358>                 N  \n",
       "3            NH  <map object at 0x0000017737003358>                 N  \n",
       "4            NH  <map object at 0x0000017737003358>                 N  "
      ]
     },
     "execution_count": 26,
     "metadata": {},
     "output_type": "execute_result"
    }
   ],
   "source": [
    "df_clean_20161101_to_20170301.head()"
   ]
  },
  {
   "cell_type": "code",
   "execution_count": 27,
   "metadata": {},
   "outputs": [],
   "source": [
    "# save to the new CSV file\n",
    "df_clean_20161101_to_20170301.to_csv('Rx Claim Pharmacy Info.csv', index = False)"
   ]
  }
 ],
 "metadata": {
  "kernelspec": {
   "display_name": "Python 3",
   "language": "python",
   "name": "python3"
  },
  "language_info": {
   "codemirror_mode": {
    "name": "ipython",
    "version": 3
   },
   "file_extension": ".py",
   "mimetype": "text/x-python",
   "name": "python",
   "nbconvert_exporter": "python",
   "pygments_lexer": "ipython3",
   "version": "3.6.6"
  }
 },
 "nbformat": 4,
 "nbformat_minor": 2
}
