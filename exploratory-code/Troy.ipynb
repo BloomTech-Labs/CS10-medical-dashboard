Link: https://colab.research.google.com/drive/1KQU20HTmmWhw1grNT0-_Cr_nUNHHFsum#scrollTo=8skaueYNkdPl

from google.colab import files
uploaded = files.upload()

import pandas as pd



import numpy as np

pd.set_option('display.max_row', 25)

data = pd.read_csv('Rx_BenefitPlan_20161101_csv.csv', sep='|')
df_20161101 = pd.DataFrame(data)

df_20161101.head()


mini = df_20161101.head()
mini

df_20161101.describe()

status_counts = df_20161101.groupby('ClaimStatus').size()
print(status_counts)

types = df_20161101.dtypes
print(types)

group_size = df_20161101.groupby('GroupNumber').size()
print(group_size)

pu_group_size = df_20161101.groupby('punbr_grnbr').size()
print(pu_group_size)

Decided to drop GroupNumber based on the above. Keeping the column with punbr just in case it proves important.

Now, let's see if we can drop any of the Pharmacy ID #s

df_20161101['PharmacyNumber'].isnull().sum()

df_20161101['PharmacyNPI'].isnull().sum()

df_20161101['PharmacyTaxId'].isnull().sum()

from pandas import set_option
set_option('display.width', 100)
set_option('precision', 3)
df_20161101.corr(method='pearson')

df_P = df_20161101[df_20161101.ClaimStatus == 'P']
df_P.head()

df_P = df_P.drop(columns=['ClaimStatus'])
df_P.head()


df_P['PharmacyIdCombo'] = df_P.apply(lambda row: str(df_P['PharmacyNumber']) + str(df_P['PharmacyNPI']), axis=1)
df_P['PharmacyIdCombo'].head()

for label, row in mini.iterrows():
  print(label)
  print(row)

mini_pharmacies = mini[["PharmacyNumber", "PharmacyTaxId", "PharmacyNPI", "PharmacyName", "PharmacyStreetAddress1", "PharmacyStreetAddress2", "PharmacyCity", "PharmacyState", "PharmacyZip"]]
mini_pharmacies

pharmacies_temp = df_20161101[["PharmacyNumber", "PharmacyTaxId", "PharmacyNPI", "PharmacyName", "PharmacyStreetAddress1", "PharmacyStreetAddress2", "PharmacyCity", "PharmacyState", "PharmacyZip"]]
pharmacies_temp.head()

pharmacies_temp.shape

names = pharmacies_temp.PharmacyName.unique()
names

names.shape

npi = pharmacies_temp.PharmacyNPI.unique()
print(npi.shape)
npi

zips = df_20161101.PharmacyZip.unique()

zip_freqs = []

for zip_code in zips:
    zip_freqs.append(df_20161101.PharmacyZip.tolist().count(zip_code))

args = np.argpartition(np.array(zip_freqs), -6)[-6:]

top6 = zips[args]

df_20161101.IngredientCost = df_20161101.IngredientCost.astype(float)

df_20161101.PharmacyNPI = df_20161101.PharmacyNPI.apply(lambda ndc: str(ndc).replace(" ",""))

top_zip0 = df_20161101[df_20161101.PharmacyZip == top6[0]]
top_zip1 = df_20161101[df_20161101.PharmacyZip == top6[1]]
top_zip2 = df_20161101[df_20161101.PharmacyZip == top6[2]]
top_zip3 = df_20161101[df_20161101.PharmacyZip == top6[3]]
top_zip4 = df_20161101[df_20161101.PharmacyZip == top6[4]]
top_zip5 = df_20161101[df_20161101.PharmacyZip == top6[5]]

t0_drug_by_ph = top_zip0.groupby(['DrugLabelName', 'PharmacyNPI']).mean()

t0_drug_by_ph = pd.DataFrame(t0_drug_by_ph)


print(t0_drug_by_ph.head())

data1 = df_P

pbms = data1.PBMVendor.unique()

pbm_freqs = []

for pbm_name in pbms:
    pbm_freqs.append(data1.PBMVendor.tolist().count(pbm_name))

args = np.argpartition(np.array(pbm_freqs), -5)[-5:]

top5_pbms = pbms[args]

# data1.IngredientCost = data1.IngredientCost.astype(float)

# data1.PharmacyNPI = data1.PharmacyNPI.apply(lambda ndc: str(ndc).replace(" ",""))

top_pbm0 = data1[data1.PBMVendor == top5_pbms[0]]
top_pbm1 = data1[data1.PBMVendor == top5_pbms[1]]
top_pbm2 = data1[data1.PBMVendor == top5_pbms[2]]
top_pbm3 = data1[data1.PBMVendor == top5_pbms[3]]
top_pbm4 = data1[data1.PBMVendor == top5_pbms[4]]

t0_drug_by_pbm = top_pbm0.groupby(['DrugLabelName', 'PBMVendor']).mean()

t0_drug_by_pbm = pd.DataFrame(t0_drug_by_pbm)

t0_drug_by_pbm.head()

pbms

top5_pbms

pbm_freqs

drug_data = df_P

drugs = drug_data.DrugLabelName.unique()

drug_freqs = []

for drug_name in drugs:
    drug_freqs.append(drug_data.DrugLabelName.tolist().count(drug_name))

args = np.argpartition(np.array(drug_freqs), -5)[-5:]

top5_drugs = drugs[args]

drug_data.IngredientCost = drug_data.IngredientCost.astype(float)

drug_data.PharmacyNPI = drug_data.PharmacyNPI.apply(lambda ndc: str(ndc).replace(" ",""))

top5_drugs




top_drug0 = drug_data[drug_data.DrugLabelName == top5_drugs[0]]
top_drug1 = drug_data[drug_data.DrugLabelName == top5_drugs[1]]
top_drug2 = drug_data[drug_data.DrugLabelName == top5_drugs[2]]
top_drug3 = drug_data[drug_data.DrugLabelName == top5_drugs[3]]
top_drug4 = drug_data[drug_data.DrugLabelName == top5_drugs[4]]

t0_drug_by_pbm = top_drug0.groupby(['PBMVendor']).mean()

t0_drug_by_pbm = pd.DataFrame(t0_drug_by_pbm)


print(top5_drugs[0])
t0_drug_by_pbm

t0_drug_name = top5_drugs[0]
t1_drug_name = top5_drugs[1]
t2_drug_name = top5_drugs[2]
t3_drug_name = top5_drugs[3]
t4_drug_name = top5_drugs[4]

t0_drug_name

t1_drug_by_pbm = top_drug1.groupby(['PBMVendor']).mean()
t1_drug_by_pbm = pd.DataFrame(t1_drug_by_pbm)

t2_drug_by_pbm = top_drug0.groupby(['PBMVendor']).mean()
t2_drug_by_pbm = pd.DataFrame(t2_drug_by_pbm)

t3_drug_by_pbm = top_drug0.groupby(['PBMVendor']).mean()
t3_drug_by_pbm = pd.DataFrame(t3_drug_by_pbm)

t4_drug_by_pbm = top_drug0.groupby(['PBMVendor']).mean()
t4_drug_by_pbm = pd.DataFrame(t4_drug_by_pbm)


